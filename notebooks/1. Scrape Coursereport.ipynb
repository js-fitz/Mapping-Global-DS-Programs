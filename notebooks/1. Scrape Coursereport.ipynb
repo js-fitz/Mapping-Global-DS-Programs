{
 "cells": [
  {
   "cell_type": "markdown",
   "metadata": {},
   "source": [
    "### this notebook scrapes raw course data from coursereport.com\n",
    "#### (bootcamps)"
   ]
  },
  {
   "cell_type": "code",
   "execution_count": null,
   "metadata": {},
   "outputs": [],
   "source": [
    "from selenium import webdriver\n",
    "import time\n",
    "import pandas as pd\n",
    "from tqdm.notebook import tqdm"
   ]
  },
  {
   "cell_type": "code",
   "execution_count": null,
   "metadata": {},
   "outputs": [],
   "source": [
    "%%capture\n",
    "tqdm.pandas()"
   ]
  },
  {
   "cell_type": "markdown",
   "metadata": {},
   "source": [
    "## coursereport"
   ]
  },
  {
   "cell_type": "code",
   "execution_count": null,
   "metadata": {},
   "outputs": [],
   "source": [
    "driver = webdriver.Chrome()\n",
    "\n",
    "urls = []\n",
    "for page_n in tqdm(range(1, 18)):\n",
    "    url = f\"https://www.coursereport.com/tracks/data-science?page={page_n}\"\n",
    "    driver.get(url)\n",
    "    schools = driver.find_elements_by_class_name('school-li')\n",
    "    urls += [s.find_element_by_tag_name('a').get_attribute('href')\n",
    "                    for s in schools]\n",
    "print(f'Collected URLs for {len(urls)} schools.\\nScraping . . .')"
   ]
  },
  {
   "cell_type": "code",
   "execution_count": null,
   "metadata": {},
   "outputs": [],
   "source": [
    "driver = webdriver.Chrome()\n",
    "\n",
    "urls = []\n",
    "for page_n in tqdm(range(1, 18)):\n",
    "    url = f\"https://www.coursereport.com/tracks/data-science?page={page_n}\"\n",
    "    driver.get(url)\n",
    "    schools = driver.find_elements_by_class_name('school-li')\n",
    "    urls += [s.find_element_by_tag_name('a').get_attribute('href')\n",
    "                    for s in schools]\n",
    "print(f'Collected URLs for {len(urls)} schools.\\nScraping . . .')\n",
    "\n",
    "data = pd.DataFrame()\n",
    "\n",
    "for school_url in tqdm(urls):\n",
    "\n",
    "    driver.get(school_url)\n",
    "\n",
    "    try: driver.find_element_by_id('match-close-btn').click()\n",
    "    except: pass\n",
    "\n",
    "    header = driver.find_element_by_class_name('main-header')\n",
    "    school_name = header.find_element_by_tag_name('h1').text\n",
    "\n",
    "    rating = header.find_element_by_class_name('rating-number')\n",
    "    review_score = rating.find_elements_by_tag_name('span')[0].text\n",
    "    n_reviews = rating.find_elements_by_tag_name('span')[2].text\n",
    "\n",
    "    print('\\n', school_name.upper(), f'({review_score} – {n_reviews} reviews)')\n",
    "\n",
    "    school_data = []\n",
    "\n",
    "    courses = driver.find_elements_by_class_name('course-card')\n",
    "\n",
    "    for c in courses:\n",
    "        \n",
    "        try:\n",
    "            driver.find_element_by_id('match-close-btn').click()\n",
    "            print('**closing popup**')\n",
    "        except: pass\n",
    "        \n",
    "        try:\n",
    "            c_data = {}\n",
    "\n",
    "            c_data['organization'] = school_name\n",
    "            c_data['review_score'] = review_score\n",
    "            c_data['n_reviews'] = n_reviews\n",
    "\n",
    "            c_data['course_name'] = c.find_element_by_tag_name('h3').text\n",
    "\n",
    "            try: c_data['link'] = c.find_element_by_class_name('btn-apply'\n",
    "                                    ).find_element_by_tag_name('a').get_attribute('href')\n",
    "            except: pass\n",
    "\n",
    "            details = c.find_element_by_class_name('details')\n",
    "\n",
    "            c_data['topics'] = ', '.join([t.text for t in details.find_elements_by_tag_name('a')])\n",
    "\n",
    "            c_data.update({d.find_element_by_tag_name('span').get_attribute('title'): d.text\n",
    "                             for d in details.find_elements_by_class_name(\"type\")})\n",
    "\n",
    "            try: c_data['hours_per_week'] = details.find_element_by_class_name('hours-week-number').text\n",
    "            except: pass\n",
    "\n",
    "            main = c.find_element_by_class_name('content')\n",
    "            rows = main.find_elements_by_tag_name('tr')\n",
    "            c_data.update({r.find_element_by_tag_name('th').text: r.find_element_by_tag_name('td').text for r in rows})\n",
    "\n",
    "            print('  >', c_data['course_name'])\n",
    "\n",
    "            school_data.append(c_data)\n",
    "        except: pass\n",
    "        \n",
    "    data = pd.concat([data, pd.DataFrame(school_data)], sort=False)\n",
    "    data = data[(data.course_name.str.lower().str.contains('|'.join(focus_topics)))|\n",
    "                (data.topics.str.lower().str.contains('|'.join(focus_topics)))]\n",
    "    data.to_csv('scraped_coursereport.csv', index=False)\n",
    "    driver.quit()\n",
    "    print('Done... saved.')"
   ]
  }
 ],
 "metadata": {
  "kernelspec": {
   "display_name": "Python 3",
   "language": "python",
   "name": "python3"
  },
  "language_info": {
   "codemirror_mode": {
    "name": "ipython",
    "version": 3
   },
   "file_extension": ".py",
   "mimetype": "text/x-python",
   "name": "python",
   "nbconvert_exporter": "python",
   "pygments_lexer": "ipython3",
   "version": "3.8.3"
  }
 },
 "nbformat": 4,
 "nbformat_minor": 2
}
