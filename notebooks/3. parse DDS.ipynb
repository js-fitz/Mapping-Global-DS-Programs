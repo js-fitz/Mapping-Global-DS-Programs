{
 "cells": [
  {
   "cell_type": "code",
   "execution_count": 48,
   "metadata": {},
   "outputs": [],
   "source": [
    "import numpy as np\n",
    "import pandas as pd\n",
    "from tqdm.notebook import tqdm"
   ]
  },
  {
   "cell_type": "markdown",
   "metadata": {},
   "source": [
    "## parse DDS data"
   ]
  },
  {
   "cell_type": "markdown",
   "metadata": {},
   "source": [
    "### Text from DiscoverDataScience.org pasted into Google sheets & saved as CSVs:\n",
    "\n",
    "source: https://www.discoverdatascience.org/programs/bachelors-in-data-science/\n",
    "\n",
    "CSV paste: https://docs.google.com/spreadsheets/d/1lIVbtNU8OUB9fkqfGqM1-fYBWlQvkMUFKS9GLsjC-J4/edit?usp=sharing"
   ]
  },
  {
   "cell_type": "code",
   "execution_count": 49,
   "metadata": {},
   "outputs": [],
   "source": [
    "out = pd.DataFrame() # to build"
   ]
  },
  {
   "cell_type": "markdown",
   "metadata": {},
   "source": [
    "## phd"
   ]
  },
  {
   "cell_type": "code",
   "execution_count": 50,
   "metadata": {},
   "outputs": [],
   "source": [
    "def sort_data(deg):\n",
    "    progs = pd.read_csv(f'dds_{deg}_progs.csv',header=None)[0]\n",
    "    prog_data = []\n",
    "    p = []\n",
    "    for line in progs:\n",
    "        if 'Offerings' in line:\n",
    "            prog_data.append(p)\n",
    "            p = []\n",
    "        else:\n",
    "            p.append(line)\n",
    "    df = pd.DataFrame(prog_data)\n",
    "    df = df.dropna(subset=[0])\n",
    "    return df\n",
    "\n",
    "def parse_phds(df, fancy):\n",
    "    df['institution'] = df[0].apply(lambda x: x.split('–')[0].strip())\n",
    "    df['location'] = df[0].apply(lambda x: x.split('–')[1].strip())\n",
    "    df['course_name'] = df[1]\n",
    "    df.drop(columns=[0, 2, 4], inplace=True)\n",
    "    df['online'] = df[3].apply(lambda x: 'Y' if 'online' in x else np.nan)\n",
    "    df['in_person'] = df[3].apply(lambda x: 'Y' if 'campus' in x.lower() else np.nan)\n",
    "    df['cost'] = df[5].apply(lambda x: x.split('tion:')[1].split(')')[0]+')')\n",
    "    df['cost'] = df['cost'].apply(lambda x: x if '(' in x else x.replace(')', ''))\n",
    "    df.drop(columns=[1,3,5], inplace=True)\n",
    "\n",
    "    df['class'] = fancy\n",
    "    return df"
   ]
  },
  {
   "cell_type": "code",
   "execution_count": 51,
   "metadata": {},
   "outputs": [],
   "source": [
    "df = parse_phds(sort_data('phd'), 'Ph.D.')\n",
    "out = pd.concat([out, df], sort=False)"
   ]
  },
  {
   "cell_type": "markdown",
   "metadata": {},
   "source": [
    "### Bachelor's"
   ]
  },
  {
   "cell_type": "code",
   "execution_count": 52,
   "metadata": {},
   "outputs": [],
   "source": [
    "def sort_data(deg):\n",
    "    progs = pd.read_csv(f'dds_{deg}_progs.csv',header=None)[0]\n",
    "    prog_data = []\n",
    "    p = []\n",
    "    for line in progs:\n",
    "        if 'offerings' in line.lower():\n",
    "            prog_data.append(p)\n",
    "            p = []\n",
    "        elif 'minor' not in line.lower() or 'Major or Minor' in line or 'and Data Science Minor' in line:\n",
    "            p.append(line)\n",
    "    df = pd.DataFrame(prog_data)\n",
    "    df = df.dropna(subset=[0])\n",
    "    return df\n",
    "df = sort_data('ba')"
   ]
  },
  {
   "cell_type": "code",
   "execution_count": 53,
   "metadata": {},
   "outputs": [],
   "source": [
    "data = []\n",
    "\n",
    "for i, row in df.iterrows():\n",
    "    r_data = {}\n",
    "    \n",
    "    for ci, val in enumerate(row):\n",
    "        \n",
    "        if 'Program Length:' in str(val):\n",
    "            r_data['duration'] = val.split(': ')[1]\n",
    "        elif 'Delivery Method:' in str(val): \n",
    "            method = val.split(': ')[1]\n",
    "            if 'campus' in method.lower():\n",
    "                r_data['online'] = 'Y'\n",
    "            if 'online' in method.lower():\n",
    "                r_data['in_person'] = 'Y'\n",
    "        elif 'Tuition:' in str(val): \n",
    "            r_data['cost'] = val.split(': ')[1].split(')')[0]+')'\n",
    "            if '(' not in r_data['cost']:\n",
    "                r_data['cost'] = r_data['cost'].replace(')', '')\n",
    "            \n",
    "        elif ci==0: \n",
    "            r_data['insti_loc'] = val\n",
    "        elif ci==1:\n",
    "            r_data['course_name'] = val\n",
    "    \n",
    "    data.append(r_data)\n",
    "    \n",
    "df = pd.DataFrame(data)\n",
    "        \n",
    "df['institution'] = df['insti_loc'].apply(lambda x: x.split('–')[0].split('-')[0].strip())\n",
    "df['location'] = df['insti_loc'].apply(lambda x: x.split('–')[-1].split('-')[-1].strip())\n",
    "df.drop(columns=['insti_loc'], inplace=True)\n",
    "\n",
    "df['class'] = \"Bachelor's\"\n",
    "out = pd.concat([out, df], sort=False)"
   ]
  },
  {
   "cell_type": "markdown",
   "metadata": {},
   "source": [
    "### Master's"
   ]
  },
  {
   "cell_type": "code",
   "execution_count": 54,
   "metadata": {},
   "outputs": [],
   "source": [
    "def sort_data(deg):\n",
    "    progs = pd.read_csv(f'dds_{deg}_progs.csv',header=None)[0]\n",
    "    prog_data = []\n",
    "    p = []\n",
    "    for line in progs:\n",
    "        if 'offering' in line.lower():\n",
    "            prog_data.append(p)\n",
    "            p = []\n",
    "        elif 'minor' not in line.lower(): # or 'Major or Minor' in line or 'and Data Science Minor' in line:\n",
    "            p.append(line)\n",
    "    df = pd.DataFrame(prog_data)\n",
    "    df = df.dropna(subset=[0])\n",
    "    return df\n",
    "df = sort_data('ma')"
   ]
  },
  {
   "cell_type": "code",
   "execution_count": 55,
   "metadata": {},
   "outputs": [],
   "source": [
    "data = []\n",
    "\n",
    "for i, row in df.iterrows():\n",
    "    r_data = {}\n",
    "    \n",
    "    for ci, val in enumerate(row):\n",
    "        \n",
    "        if 'Program Length:' in str(val):\n",
    "            r_data['duration'] = val.split(': ')[1]\n",
    "        elif 'Delivery Method:' in str(val): \n",
    "            method = val.split(': ')[1]\n",
    "            if 'campus' in method.lower():\n",
    "                r_data['online'] = 'Y'\n",
    "            if 'online' in method.lower():\n",
    "                r_data['in_person'] = 'Y'\n",
    "        elif 'Tuition:' in str(val): \n",
    "            r_data['cost'] = val.split(': ')[1].split(')')[0]+')'\n",
    "            if '(' not in r_data['cost']:\n",
    "                r_data['cost'] = r_data['cost'].replace(')', '')\n",
    "            \n",
    "        elif ci==0: \n",
    "            r_data['insti_loc'] = val\n",
    "        elif ci==1:\n",
    "            r_data['course_name'] = val\n",
    "    \n",
    "    data.append(r_data)\n",
    "    \n",
    "df = pd.DataFrame(data)\n",
    "        \n",
    "df['institution'] = df['insti_loc'].apply(lambda x: x.split('–')[0].split('-')[0].strip())\n",
    "df['location'] = df['insti_loc'].apply(lambda x: x.split('–')[-1].split('-')[-1].strip())\n",
    "df.drop(columns=['insti_loc'], inplace=True)\n",
    "\n",
    "df['class'] = \"Master's\"\n",
    "out = pd.concat([out, df], sort=False)"
   ]
  },
  {
   "cell_type": "markdown",
   "metadata": {},
   "source": [
    "#### combined DDS data:"
   ]
  },
  {
   "cell_type": "code",
   "execution_count": 56,
   "metadata": {},
   "outputs": [
    {
     "data": {
      "text/html": [
       "<div>\n",
       "<style scoped>\n",
       "    .dataframe tbody tr th:only-of-type {\n",
       "        vertical-align: middle;\n",
       "    }\n",
       "\n",
       "    .dataframe tbody tr th {\n",
       "        vertical-align: top;\n",
       "    }\n",
       "\n",
       "    .dataframe thead th {\n",
       "        text-align: right;\n",
       "    }\n",
       "</style>\n",
       "<table border=\"1\" class=\"dataframe\">\n",
       "  <thead>\n",
       "    <tr style=\"text-align: right;\">\n",
       "      <th></th>\n",
       "      <th>institution</th>\n",
       "      <th>location</th>\n",
       "      <th>course_name</th>\n",
       "      <th>online</th>\n",
       "      <th>in_person</th>\n",
       "      <th>cost</th>\n",
       "      <th>class</th>\n",
       "      <th>duration</th>\n",
       "    </tr>\n",
       "  </thead>\n",
       "  <tbody>\n",
       "    <tr>\n",
       "      <th>0</th>\n",
       "      <td>Boise State University</td>\n",
       "      <td>Boise, Idaho</td>\n",
       "      <td>PhD in Computing – Data Science Concentration</td>\n",
       "      <td>NaN</td>\n",
       "      <td>Y</td>\n",
       "      <td>$470 per credit (Resident)</td>\n",
       "      <td>Ph.D.</td>\n",
       "      <td>NaN</td>\n",
       "    </tr>\n",
       "    <tr>\n",
       "      <th>1</th>\n",
       "      <td>Bowling Green State University</td>\n",
       "      <td>Bowling Green, Ohio</td>\n",
       "      <td>Ph.D. in Data Science</td>\n",
       "      <td>NaN</td>\n",
       "      <td>Y</td>\n",
       "      <td>$445 per credit (Ohio Resident)</td>\n",
       "      <td>Ph.D.</td>\n",
       "      <td>NaN</td>\n",
       "    </tr>\n",
       "    <tr>\n",
       "      <th>2</th>\n",
       "      <td>Brown University</td>\n",
       "      <td>Providence, Rhode Island</td>\n",
       "      <td>PhD in Computer Science – Concentration in Dat...</td>\n",
       "      <td>NaN</td>\n",
       "      <td>Y</td>\n",
       "      <td>$66,702 per year</td>\n",
       "      <td>Ph.D.</td>\n",
       "      <td>NaN</td>\n",
       "    </tr>\n",
       "    <tr>\n",
       "      <th>3</th>\n",
       "      <td>Chapman University</td>\n",
       "      <td>Irvine, California</td>\n",
       "      <td>Doctorate in Computational and Data Sciences</td>\n",
       "      <td>NaN</td>\n",
       "      <td>Y</td>\n",
       "      <td>$1,630 per credit</td>\n",
       "      <td>Ph.D.</td>\n",
       "      <td>NaN</td>\n",
       "    </tr>\n",
       "    <tr>\n",
       "      <th>4</th>\n",
       "      <td>Clemson University / Medical University of Sou...</td>\n",
       "      <td>Joint Program</td>\n",
       "      <td>Doctor of Philosophy in Biomedical Data Scienc...</td>\n",
       "      <td>NaN</td>\n",
       "      <td>Y</td>\n",
       "      <td>$668 per credit ( South Carolina Resident)</td>\n",
       "      <td>Ph.D.</td>\n",
       "      <td>NaN</td>\n",
       "    </tr>\n",
       "  </tbody>\n",
       "</table>\n",
       "</div>"
      ],
      "text/plain": [
       "                                         institution  \\\n",
       "0                             Boise State University   \n",
       "1                     Bowling Green State University   \n",
       "2                                   Brown University   \n",
       "3                                 Chapman University   \n",
       "4  Clemson University / Medical University of Sou...   \n",
       "\n",
       "                   location  \\\n",
       "0              Boise, Idaho   \n",
       "1       Bowling Green, Ohio   \n",
       "2  Providence, Rhode Island   \n",
       "3        Irvine, California   \n",
       "4             Joint Program   \n",
       "\n",
       "                                         course_name online in_person  \\\n",
       "0      PhD in Computing – Data Science Concentration    NaN         Y   \n",
       "1                              Ph.D. in Data Science    NaN         Y   \n",
       "2  PhD in Computer Science – Concentration in Dat...    NaN         Y   \n",
       "3       Doctorate in Computational and Data Sciences    NaN         Y   \n",
       "4  Doctor of Philosophy in Biomedical Data Scienc...    NaN         Y   \n",
       "\n",
       "                                          cost  class duration  \n",
       "0                   $470 per credit (Resident)  Ph.D.      NaN  \n",
       "1              $445 per credit (Ohio Resident)  Ph.D.      NaN  \n",
       "2                             $66,702 per year  Ph.D.      NaN  \n",
       "3                            $1,630 per credit  Ph.D.      NaN  \n",
       "4   $668 per credit ( South Carolina Resident)  Ph.D.      NaN  "
      ]
     },
     "execution_count": 56,
     "metadata": {},
     "output_type": "execute_result"
    }
   ],
   "source": [
    "out.head()"
   ]
  },
  {
   "cell_type": "markdown",
   "metadata": {},
   "source": [
    "---\n",
    "\n",
    "# join with Portal data"
   ]
  },
  {
   "cell_type": "code",
   "execution_count": 57,
   "metadata": {},
   "outputs": [],
   "source": [
    "uni_locs = pd.read_csv('portal_data.csv')\n",
    "uni_locs.institution = uni_locs.institution.str.replace('INTO ', '')"
   ]
  },
  {
   "cell_type": "markdown",
   "metadata": {},
   "source": [
    "### identify and drop duplicates"
   ]
  },
  {
   "cell_type": "code",
   "execution_count": 58,
   "metadata": {
    "scrolled": true
   },
   "outputs": [
    {
     "data": {
      "application/vnd.jupyter.widget-view+json": {
       "model_id": "70843f600075411bb441b14d318e23d8",
       "version_major": 2,
       "version_minor": 0
      },
      "text/plain": [
       "HBox(children=(FloatProgress(value=1.0, bar_style='info', max=1.0), HTML(value='')))"
      ]
     },
     "metadata": {},
     "output_type": "display_data"
    },
    {
     "name": "stdout",
     "output_type": "stream",
     "text": [
      "\n"
     ]
    }
   ],
   "source": [
    "out = out.reset_index(drop=True)\n",
    "to_drop = []\n",
    "appended = 0\n",
    "\n",
    "# fuzzy string matching algorithm to judge similarity between rows\n",
    "\n",
    "# for tuning parameters  \n",
    "verb = False\n",
    "match_verb = False\n",
    "\n",
    "for uni_i, i in tqdm(enumerate(uni_locs.course_name.astype(str))):\n",
    "    u_inst = uni_locs.loc[uni_i, 'institution']\n",
    "    u_class = uni_locs.loc[uni_i, 'class']\n",
    "    u_loc = uni_locs.loc[uni_i, 'location']\n",
    "    for new_i, j in enumerate(out.course_name.astype(str)):\n",
    "        n_inst = out.loc[new_i, 'institution']\n",
    "        n_class = out.loc[new_i, 'class']\n",
    "        n_loc = out.loc[new_i, 'location']\n",
    "        fscore1 = fuzz.partial_ratio(i.lower(),j.lower())\n",
    "        fscore2 = fuzz.ratio(u_inst.lower(),n_inst.lower())\n",
    "        class_match = u_class == n_class\n",
    "        \n",
    "        # tune these with verb=True :\n",
    "        if (abs(fscore1-77)<5 or abs(fscore2-88)<5) and verb:\n",
    "                print(u_class, '|', u_inst, '-', i, f'({u_loc})')\n",
    "                print(n_class, '|', n_inst, '-', j, f'({n_loc})')\n",
    "                if fscore1 > 75: fscore1_meet = 'meets'\n",
    "                else: fscore1_meet = 'miss'\n",
    "                if fscore2 > 88: fscore2_meet = 'meets'\n",
    "                else: fscore2_meet = 'miss'\n",
    "                print(f'course: {fscore1} ({fscore1_meet}) | school: {fscore2} ({fscore2_meet})')\n",
    "                print()\n",
    "        if fscore1>77 and fscore2>88 and class_match and ('Arizona' not in u_inst):\n",
    "\n",
    "            # MATCH\n",
    "            if match_verb:\n",
    "                print('MATCH!')\n",
    "                print(fscore1, fscore2)\n",
    "                print(u_class, '|', u_inst, '-', i, f'({u_loc})')\n",
    "                print(n_class, '|', n_inst, '-', j, f'({n_loc})')\n",
    "                print()\n",
    "            \n",
    "            out = out.rename(columns={'duration':'dur_number'})\n",
    "            \n",
    "            for col in out.columns:\n",
    "                if str(uni_locs.loc[uni_i, col]).lower()=='nan':\n",
    "                    if str(out.loc[new_i, col]).lower()!='nan':\n",
    "                        uni_locs.loc[uni_i, col] = out.loc[new_i, col]\n",
    "                        appended +=1\n",
    "            \n",
    "            to_drop.append(new_i)\n",
    "\n",
    "out = out.drop(to_drop)         "
   ]
  },
  {
   "cell_type": "markdown",
   "metadata": {},
   "source": [
    "##  combine + save "
   ]
  },
  {
   "cell_type": "code",
   "execution_count": 63,
   "metadata": {},
   "outputs": [],
   "source": [
    "comb = pd.concat([uni_locs, out], sort=False)\n",
    "comb.to_csv('all_degs.csv', index=False)"
   ]
  }
 ],
 "metadata": {
  "kernelspec": {
   "display_name": "Python 3",
   "language": "python",
   "name": "python3"
  },
  "language_info": {
   "codemirror_mode": {
    "name": "ipython",
    "version": 3
   },
   "file_extension": ".py",
   "mimetype": "text/x-python",
   "name": "python",
   "nbconvert_exporter": "python",
   "pygments_lexer": "ipython3",
   "version": "3.8.3"
  }
 },
 "nbformat": 4,
 "nbformat_minor": 2
}
