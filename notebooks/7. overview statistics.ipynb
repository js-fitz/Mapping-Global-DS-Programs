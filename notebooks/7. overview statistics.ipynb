{
 "cells": [
  {
   "cell_type": "code",
   "execution_count": 1,
   "metadata": {},
   "outputs": [],
   "source": [
    "import json\n",
    "import numpy as np\n",
    "import pandas as pd"
   ]
  },
  {
   "cell_type": "markdown",
   "metadata": {},
   "source": [
    "### read data"
   ]
  },
  {
   "cell_type": "code",
   "execution_count": 2,
   "metadata": {},
   "outputs": [
    {
     "name": "stdout",
     "output_type": "stream",
     "text": [
      "687 bootcamps & 2454 college/university degrees\n",
      "3141 total\n"
     ]
    }
   ],
   "source": [
    "boot_locs = pd.read_csv('boot_to_map.csv')\n",
    "uni_locs = pd.read_csv('degs_to_map.csv')\n",
    "print(f'{len(boot_locs)} bootcamps & {len(uni_locs)} college/university degrees')\n",
    "print(len(boot_locs)+len(uni_locs), 'total')"
   ]
  },
  {
   "cell_type": "code",
   "execution_count": 3,
   "metadata": {},
   "outputs": [],
   "source": [
    "def get_country(g_info):\n",
    "    try:\n",
    "        g_json = json.loads(g_info.replace(\"'\", \"\\\"\"))\n",
    "        return [s for s in g_json[0]['address_components'] if\n",
    "                'country' in s['types']][0]['long_name']\n",
    "    except: return g_info\n",
    "    \n",
    "uni_locs['country'] = uni_locs.gmaps_info.apply(get_country)"
   ]
  },
  {
   "cell_type": "code",
   "execution_count": 4,
   "metadata": {},
   "outputs": [
    {
     "name": "stdout",
     "output_type": "stream",
     "text": [
      "2454 degrees across 118 countries\n"
     ]
    }
   ],
   "source": [
    "print(len(uni_locs), 'degrees across', uni_locs.country.nunique(), 'countries')"
   ]
  },
  {
   "cell_type": "code",
   "execution_count": 5,
   "metadata": {},
   "outputs": [
    {
     "name": "stdout",
     "output_type": "stream",
     "text": [
      "College/Uni Programs\n",
      "  Programs in USA: 1231\n",
      "  Outside USA: 1223\n"
     ]
    }
   ],
   "source": [
    "print('College/Uni Programs')\n",
    "n_usa = uni_locs['country'].value_counts()[0]\n",
    "print(f'  Programs in USA: {n_usa}\\n  Outside USA: {len(uni_locs) - n_usa}')"
   ]
  },
  {
   "cell_type": "code",
   "execution_count": 6,
   "metadata": {
    "scrolled": true
   },
   "outputs": [
    {
     "name": "stdout",
     "output_type": "stream",
     "text": [
      "College/Uni Programs\n",
      "  1. United States (1231)\n",
      "  2. United Kingdom (372)\n",
      "  3. Australia (102)\n",
      "  4. Canada (79)\n",
      "  5. Netherlands (60)\n",
      "  6. Germany (53)\n",
      "  7. Ireland (36)\n",
      "  8. Sweden (32)\n",
      "  9. Italy (24)\n",
      "  10. Hong Kong (22)\n",
      "  11. Finland (22)\n",
      "  12. Switzerland (20)\n",
      "  13. France (20)\n",
      "  14. Turkey (20)\n",
      "  15. South Africa (19)\n"
     ]
    }
   ],
   "source": [
    "top_cs = uni_locs['country'].value_counts()[:15].to_frame()\n",
    "print('College/Uni Programs')\n",
    "for i, country in enumerate(top_cs.index):\n",
    "    print(f\"  {i+1}. {country} ({top_cs.loc[country, 'country']})\")"
   ]
  },
  {
   "cell_type": "markdown",
   "metadata": {},
   "source": [
    "# ..."
   ]
  },
  {
   "cell_type": "code",
   "execution_count": null,
   "metadata": {},
   "outputs": [],
   "source": []
  }
 ],
 "metadata": {
  "kernelspec": {
   "display_name": "Python 3",
   "language": "python",
   "name": "python3"
  },
  "language_info": {
   "codemirror_mode": {
    "name": "ipython",
    "version": 3
   },
   "file_extension": ".py",
   "mimetype": "text/x-python",
   "name": "python",
   "nbconvert_exporter": "python",
   "pygments_lexer": "ipython3",
   "version": "3.8.3"
  }
 },
 "nbformat": 4,
 "nbformat_minor": 2
}
